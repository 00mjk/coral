{
 "cells": [
  {
   "cell_type": "code",
   "execution_count": 1,
   "metadata": {
    "collapsed": false
   },
   "outputs": [],
   "source": [
    "import coral as cr"
   ]
  },
  {
   "cell_type": "markdown",
   "metadata": {},
   "source": [
    "# Overview\n",
    "\n",
    "A common task in synthetic biology is to design and test several variants of a given biological part. In this case, we were interested in testing length variants of the pFUS1 promoter in yeast. We wanted to compare the expression of the most commonly-reported promoter (length 435) to much shorter (length 250) and much longer (length 1000) variants.\n",
    "\n",
    "YCL027W is the systematic name for FUS1. To generate our promoters, we will take regions just prior to the start codon of FUS1. We decided on our sizes based on looking at the Yeast Promoter Atlas Promoter (http://ypa.csbb.ntu.edu.tw/do?act=gene_by_kw&query=FUS1)\n",
    "  * 250 bp: includes all STE12 and DIG1 binding sites\n",
    "  * 435 bp: exact YPA-predicted promoter length. Has TATA box and NRG1 binding site as well.\n",
    "  * 1000 bp: overkill - includes a large chunk of the gene before FUS1"
   ]
  },
  {
   "cell_type": "markdown",
   "metadata": {},
   "source": [
    "### Getting the region upstream of the FUS1 gene\n",
    "\n",
    "Coral has several built-in ways of retrieving sequences. The simplest and most straightforward method is reading standard sequence file formats like genbank (.gb, .ape) or FASTA (.fasta, .fa, .seq).\n",
    "\n",
    "In this example, we read in the yeast chromosome contaning FUS1, chromosome 3, then retrieve the sequence upstream of FUS1."
   ]
  },
  {
   "cell_type": "code",
   "execution_count": 2,
   "metadata": {
    "collapsed": false
   },
   "outputs": [],
   "source": [
    "# FUS1 is on chromosome 3\n",
    "chr3 = cr.io.read_dna('./chr03.gb')"
   ]
  },
  {
   "cell_type": "markdown",
   "metadata": {},
   "source": [
    "We could also have used online resources like the SGD or Yeast Promoter Atlas."
   ]
  },
  {
   "cell_type": "code",
   "execution_count": 3,
   "metadata": {
    "collapsed": false
   },
   "outputs": [
    {
     "data": {
      "text/plain": [
       "[FUS1 'gene' feature (71802 to 73341) on strand 0,\n",
       " FUS1(1) 'mRNA' feature (71802 to 73341) on strand 0,\n",
       " FUS1(2) 'CDS' feature (71802 to 73341) on strand 0]"
      ]
     },
     "execution_count": 3,
     "metadata": {},
     "output_type": "execute_result"
    }
   ],
   "source": [
    "# First, we need to isolate the FUS1 coding region\n",
    "fus1_features = []\n",
    "for feature in chr3.features:\n",
    "    if 'locus_tag' in feature.qualifiers:\n",
    "        if 'YCL027W' in feature.qualifiers['locus_tag']:\n",
    "            fus1_features.append(feature)\n",
    "fus1_features"
   ]
  },
  {
   "cell_type": "markdown",
   "metadata": {},
   "source": [
    "There are several features, all describing the coding region of FUS1. If we were writing a general-purpose script, we filter to features of type 'gene' or 'CDS', then grab either the start coordinate (if on strand 0) or the end coordinate (if on strand 1).\n",
    "\n",
    "But we can easily see that we can use any of these features and use its start codon, so that's what we'll do."
   ]
  },
  {
   "cell_type": "code",
   "execution_count": 4,
   "metadata": {
    "collapsed": false
   },
   "outputs": [],
   "source": [
    "feature = fus1_features[0]\n",
    "\n",
    "upstream_lengths = [250, 435, 1000]\n",
    "\n",
    "promoters = []\n",
    "for length in upstream_lengths:\n",
    "    promoter = chr3[feature.start - length:feature.start]\n",
    "    promoter.name = \"pFUS1({})\".format(len(promoter))\n",
    "    promoter.features = [cr.Feature(promoter.name, 0, len(promoter), \"promoter\")]\n",
    "    promoters.append(promoter)"
   ]
  },
  {
   "cell_type": "markdown",
   "metadata": {},
   "source": [
    "Done! We've designed all of our promoters. If we want to be particularly careful, we can do some checks on the outputs as well."
   ]
  },
  {
   "cell_type": "code",
   "execution_count": 5,
   "metadata": {
    "collapsed": false
   },
   "outputs": [
    {
     "name": "stdout",
     "output_type": "stream",
     "text": [
      "Promoter lengths: [250, 435, 1000]\n",
      "Smaller promoters are contained within bigger ones: [True, True, True]\n",
      "First ten bases of FUS1 in promoters?: [False, False, False]\n"
     ]
    }
   ],
   "source": [
    "# Promoters should be 250, 435, and 1000 bp long\n",
    "print 'Promoter lengths: {}'.format([len(p) for p in promoters])\n",
    "\n",
    "# Each promoter should be a subset of the 1000 bp version - i.e.\n",
    "# we should be able to find the 250 bp promoter in the 1000 bp one\n",
    "subsets = [promoter in promoters[-1] for promoter in promoters]\n",
    "print 'Smaller promoters are contained within bigger ones: {}'.format(subsets)\n",
    "\n",
    "# The FUS1 gene itself should not be part of the promoters\n",
    "fus1 = chr3.extract(feature)\n",
    "print 'First ten bases of FUS1 in promoters?: {}'.format([fus1[:10] in p for p in promoters])"
   ]
  }
 ],
 "metadata": {
  "kernelspec": {
   "display_name": "Python 2",
   "language": "python",
   "name": "python2"
  },
  "language_info": {
   "codemirror_mode": {
    "name": "ipython",
    "version": 2
   },
   "file_extension": ".py",
   "mimetype": "text/x-python",
   "name": "python",
   "nbconvert_exporter": "python",
   "pygments_lexer": "ipython2",
   "version": "2.7.10"
  }
 },
 "nbformat": 4,
 "nbformat_minor": 0
}
