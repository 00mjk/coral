{
 "cells": [
  {
   "cell_type": "markdown",
   "metadata": {},
   "source": [
    "## Primer Design\n",
    "\n",
    "One of the first things anyone learns in a molecular biology lab is how to design primers. The exact strategies vary a lot and are sometimes polymerase-specific. `coral` uses the Klavins' lab approach of targeting a specific melting temperature (Tm) and nothing else, with the exact Tm targeted being between 65°C and 72°C, the choice being personal preference. `coral` currently defaults to 72°C on the Phusion (modified Breslauer 1986) Tm calculator.\n",
    "\n",
    "`coral.design_primer` is a function that takes in a `sequence.DNA` object and rapidly finds the 5' subsequence that is closest to the desired Tm (within a user-definable error range). If the entire sequence would make a primer with too low of a Tm, a descriptive error is produced.\n",
    "\n",
    "For this tutorial, let's design primers that will amplify the gene EYFP."
   ]
  },
  {
   "cell_type": "code",
   "execution_count": 1,
   "metadata": {},
   "outputs": [],
   "source": [
    "import coral as cor"
   ]
  },
  {
   "cell_type": "markdown",
   "metadata": {},
   "source": [
    "First we read in a plasmid from Havens et al. 2012 and isolate the EYFP sequence."
   ]
  },
  {
   "cell_type": "code",
   "execution_count": 2,
   "metadata": {},
   "outputs": [
    {
     "name": "stdout",
     "output_type": "stream",
     "text": [
      "717\n"
     ]
    },
    {
     "data": {
      "text/plain": [
       "ATGGTGAGCAAGGGCGAGGAGCTGTTCACCGGGGTGGTGC ... CGCCGCCGGGATCACTCTCGGCATGGACGAGCTGTACAAG\n",
       "TACCACTCGTTCCCGCTCCTCGACAAGTGGCCCCACCACG ... GCGGCGGCCCTAGTGAGAGCCGTACCTGCTCGACATGTTC"
      ]
     },
     "execution_count": 2,
     "metadata": {},
     "output_type": "execute_result"
    }
   ],
   "source": [
    "plasmid = cor.seqio.read_dna(\"../files_for_tutorial/maps/pGP4G-EYFP.ape\")\n",
    "eyfp_f = [f for f in plasmid.features if f.name == 'EYFP'][0]\n",
    "eyfp = plasmid.extract(eyfp_f)\n",
    "print len(eyfp)\n",
    "eyfp"
   ]
  },
  {
   "cell_type": "markdown",
   "metadata": {},
   "source": [
    "Designing primers is straightforward - you just call `design.design_primer` with a `sequence.DNA` object as the input."
   ]
  },
  {
   "cell_type": "code",
   "execution_count": 3,
   "metadata": {},
   "outputs": [
    {
     "name": "stdout",
     "output_type": "stream",
     "text": [
      "ATGGTGAGCAAGGGCG\n",
      "\n",
      "GGGGGATCGATATGGTGAGCAAGGGCGAGGAGCTGTTCAC\n"
     ]
    }
   ],
   "source": [
    "# Forward and reverse, one at a time using design_primer()\n",
    "forward = cor.design.primer(eyfp)\n",
    "reverse = cor.design.primer(eyfp.reverse_complement())\n",
    "# Both at once using design_primers()\n",
    "forward, reverse = cor.design.primers(eyfp)\n",
    "# design_primer has many options, including adding overhangs\n",
    "custom_forward = cor.design.primer(eyfp, tm=65, min_len=12, \n",
    "                                   tm_undershoot=1, tm_overshoot=1, \n",
    "                                   end_gc=True, tm_parameters=\"santalucia98\", \n",
    "                                   overhang=cor.DNA(\"GGGGGATCGAT\"))\n",
    "print forward\n",
    "print\n",
    "print custom_forward"
   ]
  },
  {
   "cell_type": "markdown",
   "metadata": {},
   "source": [
    "Designing primers and getting a string output is just the first step in primer design - we want to know whether the primers actually *work* and write them out to a file. The point of programming DNA is that you *never* copy and paste!\n",
    "\n",
    "To simulate a PCR using the rules of molecular biology, use `coral.reaction.pcr`. The output is a subsequence of the template DNA - the features may not match the plasmid exactly (due to being truncated by the PCR), but the sequences match. If a primer would bind in multiple places (exact matches to the template), the pcr function will fail and give a useful message.\n",
    "\n",
    "You can check for identical sequences using python's built in == operator."
   ]
  },
  {
   "cell_type": "code",
   "execution_count": 4,
   "metadata": {},
   "outputs": [
    {
     "data": {
      "text/plain": [
       "True"
      ]
     },
     "execution_count": 4,
     "metadata": {},
     "output_type": "execute_result"
    }
   ],
   "source": [
    "amplicon = cor.reaction.pcr(plasmid, forward, reverse)\n",
    "amplicon == eyfp"
   ]
  },
  {
   "cell_type": "markdown",
   "metadata": {},
   "source": [
    "Now that we have verified that our primers should at least amplify the DNA that we want, let's write out our primers to file so they can be submitted to an oligo synthesis company."
   ]
  },
  {
   "cell_type": "code",
   "execution_count": 5,
   "metadata": {},
   "outputs": [],
   "source": [
    "# First we give our primers names (the `.name` attribute is empty by default)\n",
    "forward.name = \"EYFP_forward\"\n",
    "reverse.name = \"EYFP_reverse\"\n",
    "# Then we write to file - a csv (comma separated value file)\n",
    "cor.seqio.write_primers([forward, reverse], \"./designed_primers.csv\", [\"Forward EYFP primer\", \"Reverse EYFP primer\"])"
   ]
  },
  {
   "cell_type": "markdown",
   "metadata": {},
   "source": [
    "The csv file can then be opened in a spreadsheet application like Excel or processed by a downstream program. This is the format of the csv:"
   ]
  },
  {
   "cell_type": "code",
   "execution_count": 6,
   "metadata": {},
   "outputs": [
    {
     "name": "stdout",
     "output_type": "stream",
     "text": [
      "['name', 'sequence', 'notes']\n",
      "['Forward EYFP primer', 'ATGGTGAGCAAGGGCG', '']\n",
      "['Reverse EYFP primer', 'CTTGTACAGCTCGTCCATGCC', '']\n"
     ]
    }
   ],
   "source": [
    "import csv\n",
    "with open(\"./designed_primers.csv\", \"r\") as csv_file:\n",
    "    reader = csv.reader(csv_file)\n",
    "    lines = [line for line in reader]\n",
    "for line in lines:\n",
    "    print line"
   ]
  }
 ],
 "metadata": {
  "kernelspec": {
   "display_name": "Python 2",
   "language": "python",
   "name": "python2"
  },
  "language_info": {
   "codemirror_mode": {
    "name": "ipython",
    "version": 2
   },
   "file_extension": ".py",
   "mimetype": "text/x-python",
   "name": "python",
   "nbconvert_exporter": "python",
   "pygments_lexer": "ipython2",
   "version": "2.7.12"
  }
 },
 "nbformat": 4,
 "nbformat_minor": 1
}
