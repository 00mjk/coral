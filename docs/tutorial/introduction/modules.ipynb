{
 "cells": [
  {
   "cell_type": "markdown",
   "metadata": {},
   "source": [
    "## coral modules\n",
    "\n",
    "coral has 7 modules: analysis, constants, database, design, reaction, seqio, and sequence.\n",
    "\n",
    "The modules have been split up by function - the activity that a user wants to execute. For example, anything related to accessing scientific databases is in the database module and activities related to designing sequences are in the design module.\n",
    "\n",
    "The modules are explicitly organized via their \\_\\_init\\_\\_.py files. All this means is that anything available via coral.module.\\* is usable and hopefully useful. You can explore the functions and classes defined for each module by reading more of the ipython documentation, sphinx autodoc documentation, or interactively investigating modules in the ipython notebook using tab completion and ? documentation. coral follows the PEP 8 style guidelines on class and function names so that you can differentiate between them - classes use CamelCase and functions use lower_case with underscores."
   ]
  },
  {
   "cell_type": "code",
   "execution_count": 1,
   "metadata": {},
   "outputs": [
    {
     "data": {
      "text/plain": [
       "['DNA',\n",
       " 'Feature',\n",
       " 'Peptide',\n",
       " 'Primer',\n",
       " 'RNA',\n",
       " 'RestrictionSite',\n",
       " '__builtins__',\n",
       " '__doc__',\n",
       " '__file__',\n",
       " '__name__',\n",
       " '__package__',\n",
       " '__path__',\n",
       " '__version__',\n",
       " 'analysis',\n",
       " 'constants',\n",
       " 'database',\n",
       " 'design',\n",
       " 'reaction',\n",
       " 'seqio',\n",
       " 'sequence',\n",
       " 'ssDNA',\n",
       " 'utils']"
      ]
     },
     "execution_count": 1,
     "metadata": {},
     "output_type": "execute_result"
    }
   ],
   "source": [
    "import coral as cor  # alternative you can import each module by itself e.g. from coral import design\n",
    "dir(cor)  # dir lists everything in a module/object. Ignore the double underscore items."
   ]
  },
  {
   "cell_type": "markdown",
   "metadata": {},
   "source": [
    "### Top-level\n",
    "\n",
    "In addition to the core modules, the top-level coral module provides the core data structures used in coral - DNA, RNA, and Peptide (as well as specialized classes like Primer)."
   ]
  },
  {
   "cell_type": "code",
   "execution_count": 2,
   "metadata": {},
   "outputs": [
    {
     "name": "stdout",
     "output_type": "stream",
     "text": [
      "DNA: ATGC\n",
      "Palindrome?: False\n",
      "\n",
      "RNA: AUGC\n",
      "\n",
      "Peptide: MLNP\n"
     ]
    }
   ],
   "source": [
    "dna = cor.DNA(\"ATGC\")\n",
    "print \"DNA: {}\".format(dna)\n",
    "# You can also run methods on the object - in this case, check if the DNA is palindromic\n",
    "print \"Palindrome?: {}\".format(dna.is_palindrome())\n",
    "print\n",
    "rna = cor.RNA(\"AUGC\")\n",
    "print \"RNA: {}\".format(rna)\n",
    "print\n",
    "pep = cor.Peptide(\"mlnp\")\n",
    "print \"Peptide: {}\".format(pep)"
   ]
  },
  {
   "cell_type": "markdown",
   "metadata": {},
   "source": [
    "As you can see above, to make DNA, RNA, or Peptide objects you just invoke the correct sequence. command and give it a valid string as an argument. Case does not matter, but precision does - only unambiguous and valid DNA, RNA, or Peptide sequences are allowed. The sequence module also contains special cases of DNA objects (Primer, RestrictionSite, Feature), which are covered in detail later. You can treat DNA, RNA, and Peptide objects much like strings or lists in python, so addition, multiplication, slicing, and container logic are all defined."
   ]
  },
  {
   "cell_type": "markdown",
   "metadata": {},
   "source": [
    "### analysis\n",
    "\n",
    "The analysis module is focused on providing functions and classes for analyzing DNA, RNA, and Peptides, focusing on information inherent to the sequence (palindromes, repeats, melting temperatures), structural information (Vienna RNA and NUPACK classes), and sequencing (Sanger sequencing analysis)."
   ]
  },
  {
   "cell_type": "code",
   "execution_count": 3,
   "metadata": {},
   "outputs": [
    {
     "data": {
      "text/plain": [
       "48.03216557174494"
      ]
     },
     "execution_count": 3,
     "metadata": {},
     "output_type": "execute_result"
    }
   ],
   "source": [
    "# Example: finding the Tm of ATGCATGCATGCATGC according to the SantaLucia98 method.\n",
    "cor.analysis.tm(dna * 4, parameters=\"santalucia98\")"
   ]
  },
  {
   "cell_type": "markdown",
   "metadata": {},
   "source": [
    "### constants\n",
    "\n",
    "The constants module contains data - information that doesn't change (i.e. is constant). This includes alphabets (sets of characters) that define DNA, RNA, and peptides and other standards, such as the genbank feature table. "
   ]
  },
  {
   "cell_type": "markdown",
   "metadata": {},
   "source": [
    "### database\n",
    "\n",
    "The database module is for accessing scientific databases. It currently has limited functionality, talking only to the Rebase database of restriction enzymes."
   ]
  },
  {
   "cell_type": "markdown",
   "metadata": {},
   "source": [
    "### design\n",
    "\n",
    "The design module holds classes and functions for the design of new constructs. The two most important functions are design_primer and gibson. The former designs primers for a given input sequence while the latter designs Gibson primers for a whole series of input fragments."
   ]
  },
  {
   "cell_type": "markdown",
   "metadata": {},
   "source": [
    "### reaction\n",
    "\n",
    "The reaction module simulates reactions relevant to cloning and basic molecular genetics, including transcription, reverse transcription, translation, exonuclease activity, extracting coding sequences, digesting with restriction endonucleases, pcr, and Gibson assembly."
   ]
  },
  {
   "cell_type": "markdown",
   "metadata": {},
   "source": [
    "### seqio\n",
    "\n",
    "The seqio module is for sequence input/output - reading and writing sequences. The module currently supports reading in individual sequences (fasta or genbank) using read_dna, reading in all the .ab1, .abi, and .seq files in a directory using read_sequencing, and writing DNA objects to file (fasta or genbank)."
   ]
  }
 ],
 "metadata": {
  "kernelspec": {
   "display_name": "Python 2",
   "language": "python",
   "name": "python2"
  },
  "language_info": {
   "codemirror_mode": {
    "name": "ipython",
    "version": 2
   },
   "file_extension": ".py",
   "mimetype": "text/x-python",
   "name": "python",
   "nbconvert_exporter": "python",
   "pygments_lexer": "ipython2",
   "version": "2.7.12"
  }
 },
 "nbformat": 4,
 "nbformat_minor": 1
}
